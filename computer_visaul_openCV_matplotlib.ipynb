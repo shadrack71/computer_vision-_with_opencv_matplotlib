{
 "cells": [
  {
   "cell_type": "code",
   "execution_count": null,
   "id": "25c20590-d94d-47ce-8f32-bfc5618c9848",
   "metadata": {},
   "outputs": [],
   "source": []
  }
 ],
 "metadata": {
  "kernelspec": {
   "display_name": "",
   "name": ""
  },
  "language_info": {
   "name": ""
  }
 },
 "nbformat": 4,
 "nbformat_minor": 5
}
